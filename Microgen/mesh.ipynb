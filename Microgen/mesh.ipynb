{
 "cells": [
  {
   "cell_type": "code",
   "execution_count": null,
   "metadata": {},
   "outputs": [],
   "source": [
    "from microgen import *\n",
    "import os\n",
    "\n",
    "#Size of the mesh\n",
    "size_mesh = 0.03\n",
    "a = 1.0\n",
    "b = 1.0\n",
    "c = 1.0\n",
    "\n",
    "periodicity = 0\n",
    "Revel = Rve(a,b,c,size_mesh)\n",
    "phases = []\n",
    "\n",
    "S = BasicGeometry(number=101,\n",
    "                  shape='ellipsoid', \n",
    "                  xc=0.5, yc=0.5, zc=0.5, \n",
    "                  psi=0, theta=0, phi=0, \n",
    "                  param_geom={'a_x': 0.3, \n",
    "                              'a_y': 0.3, \n",
    "                              'a_z': 0.4}, \n",
    "                  path_data='.')\n",
    "elli = S.generate()\n",
    "\n",
    "listSolids = elli.Solids()\n",
    "\n",
    "if 'data' not in os.listdir('.'):\n",
    "     os.mkdir('data')\n",
    "\n",
    "compound = cq.Compound.makeCompound(listSolids)\n",
    "cq.exporters.export(compound, 'data/ellipsoid.stl')\n",
    "cq.exporters.export(compound, 'data/ellipsoid.step')\n",
    "\n",
    "mesh(mesh_file='data/ellipsoid.step', \n",
    "     listPhases=[elli.Solids()], \n",
    "     size=0.03, \n",
    "     order=1, \n",
    "     output_file='data/ellipsoid.vtk')\n",
    "\n",
    "\n"
   ]
  },
  {
   "cell_type": "code",
   "execution_count": null,
   "metadata": {},
   "outputs": [],
   "source": [
    "from ipygany import Scene, PolyMesh\n",
    "from sidecar import Sidecar\n",
    "\n",
    "sc = Sidecar(title='Sidecar Output')\n",
    "with sc:\n",
    "    mesh = PolyMesh.from_vtk('data/ellipsoid.vtk')\n",
    "    mesh.default_color = 'gray'\n",
    "\n",
    "    scene = Scene([mesh])\n",
    "    display(scene)"
   ]
  }
 ],
 "metadata": {
  "kernelspec": {
   "display_name": "Python 3 (ipykernel)",
   "language": "python",
   "name": "python3"
  },
  "language_info": {
   "codemirror_mode": {
    "name": "ipython",
    "version": 3
   },
   "file_extension": ".py",
   "mimetype": "text/x-python",
   "name": "python",
   "nbconvert_exporter": "python",
   "pygments_lexer": "ipython3",
   "version": "3.9.12"
  }
 },
 "nbformat": 4,
 "nbformat_minor": 4
}
