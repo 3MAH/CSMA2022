{
 "cells": [
  {
   "cell_type": "code",
   "execution_count": null,
   "metadata": {},
   "outputs": [],
   "source": [
    "import cadquery as cq\n",
    "from microgen import Rve, BasicGeometry, rasterShapeList, mesh\n",
    "\n",
    "# Size of the mesh\n",
    "size_mesh = 0.03\n",
    "a = 1.0\n",
    "b = 1.0\n",
    "c = 1.0\n",
    "\n",
    "periodicity = 0\n",
    "revel = Rve(a, b, c, size_mesh)\n",
    "\n",
    "elem = BasicGeometry(number=0, shape='tpms',\n",
    "                     xc=0.5, yc=0.5, zc=0.5,\n",
    "                     psi=0., theta=0., phi=0.,\n",
    "                     param_geom={\"type_surface\": 'gyroid',\n",
    "                                 \"type_part\": 'skeletal',\n",
    "                                 \"thickness\": 0.3},\n",
    "                     path_data='data')\n",
    "elem.geometry.createSurfaces(rve=revel,\n",
    "                             sizeMesh=0.03, minFacetAngle=20., maxRadius=0.03,\n",
    "                             path_data='data')\n",
    "skeletal = elem.generate(rve=revel)\n",
    "\n",
    "cq.exporters.export(skeletal, 'data/skeletal.step')\n",
    "raster = rasterShapeList(cqShapeList=[skeletal], rve=revel, grid=[5, 5, 5])\n",
    "\n",
    "compound = cq.Compound.makeCompound(raster[0])\n",
    "cq.exporters.export(compound, 'data/compound.step')\n",
    "\n",
    "mesh(mesh_file='data/compound.step', listPhases=raster[1], size=size_mesh, order=1, output_file='data/Mesh.vtk')"
   ]
  },
  {
   "cell_type": "code",
   "execution_count": null,
   "metadata": {},
   "outputs": [],
   "source": [
    "from ipygany import Scene, PolyMesh\n",
    "from sidecar import Sidecar\n",
    "\n",
    "sc = Sidecar(title='Sidecar Output')\n",
    "with sc:\n",
    "    mesh = PolyMesh.from_vtk('data/Mesh.vtk')\n",
    "    mesh.default_color = 'gray'\n",
    "\n",
    "    scene = Scene([mesh])\n",
    "    display(scene)"
   ]
  }
 ],
 "metadata": {
  "kernelspec": {
   "display_name": "Python 3 (ipykernel)",
   "language": "python",
   "name": "python3"
  },
  "language_info": {
   "codemirror_mode": {
    "name": "ipython",
    "version": 3
   },
   "file_extension": ".py",
   "mimetype": "text/x-python",
   "name": "python",
   "nbconvert_exporter": "python",
   "pygments_lexer": "ipython3",
   "version": "3.9.12"
  }
 },
 "nbformat": 4,
 "nbformat_minor": 4
}
