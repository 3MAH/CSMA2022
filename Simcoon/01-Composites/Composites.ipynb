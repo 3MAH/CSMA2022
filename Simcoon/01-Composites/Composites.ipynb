{
  "cells": [
    {
      "cell_type": "markdown",
      "source": [
        "# Computation of effective response of composite materials"
      ],
      "metadata": {}
    },
    {
      "cell_type": "markdown",
      "source": [
        "## Effective stiffness tensor of a 2-phase composite (matrix reinforced by spherical particles)"
      ],
      "metadata": {
        "nteract": {
          "transient": {
            "deleting": false
          }
        }
      }
    },
    {
      "cell_type": "code",
      "source": [
        "import pylab\n",
        "import numpy as np\n",
        "from simcoon import simmit as sim\n",
        "import pandas as pd\n",
        "import matplotlib.pyplot as plt\n",
        "import os\n",
        "import itertools\n",
        "from IPython.display import HTML\n",
        "dir = os.path.dirname(os.path.realpath('__file__'))\n",
        "\n",
        "plt.rc('text', usetex=True)\n",
        "plt.rc('font', family='serif')\n",
        "\n",
        "nstatev = 0\n",
        "\n",
        "nphases = 2 #The number of phases\n",
        "num_file = 0 #The num of the file that contains the subphases\n",
        "int1 = 50\n",
        "int2 = 50\n",
        "n_matrix = 0\n",
        "\n",
        "props = np.array([nphases, num_file, int1, int2, n_matrix],  dtype='float')\n",
        "\n",
        "psi_rve = 0.\n",
        "theta_rve = 0.\n",
        "phi_rve = 0.\n",
        "\n",
        "umat_name = 'MIMTN'\n",
        "\n",
        "L_eff = sim.L_eff(umat_name, props, nstatev, psi_rve, theta_rve, phi_rve)\n",
        "p = sim.L_iso_props(L_eff)\n",
        "np.set_printoptions(precision=3, suppress=True)\n",
        "print('L_eff = ', L_eff)\n",
        "print(p)\n"
      ],
      "outputs": [
        {
          "output_type": "stream",
          "name": "stdout",
          "text": [
            "L_eff =  [[6884.784 1651.472 1651.472    0.       0.      -0.   ]\n",
            " [1651.472 6884.784 1651.472   -0.       0.       0.   ]\n",
            " [1651.472 1651.472 6884.784   -0.      -0.       0.   ]\n",
            " [   0.      -0.      -0.    2616.656   -0.       0.   ]\n",
            " [   0.       0.      -0.      -0.    2616.656   -0.   ]\n",
            " [  -0.       0.       0.       0.      -0.    2616.656]]\n",
            "[6245.778    0.193]\n"
          ]
        }
      ],
      "execution_count": 1,
      "metadata": {
        "collapsed": false,
        "execution": {
          "iopub.status.busy": "2022-05-18T12:22:26.009Z",
          "iopub.execute_input": "2022-05-18T12:22:26.014Z",
          "shell.execute_reply": "2022-05-18T12:22:26.898Z",
          "iopub.status.idle": "2022-05-18T12:22:26.873Z"
        }
      }
    },
    {
      "cell_type": "markdown",
      "source": [
        "## Comparison betwwen Mori-Tanaka and Self-Consistent method for the analysis of a 2-phase composite (matrix reinforced by spherical particles)"
      ],
      "metadata": {
        "nteract": {
          "transient": {
            "deleting": false
          }
        }
      }
    },
    {
      "cell_type": "code",
      "source": [
        "dir = os.path.dirname(os.path.realpath('__file__'))\n",
        "pylab.rcParams['figure.figsize'] = (18.0, 8.0) #configure the figure output size\n",
        "\n",
        "nstatev = 0\n",
        "\n",
        "nphases = 2 #The number of phases\n",
        "num_file = 0 #The num of the file that contains the subphases\n",
        "int1 = 50\n",
        "int2 = 50\n",
        "n_matrix = 0\n",
        "\n",
        "props = np.array([nphases, num_file, int1, int2, n_matrix],  dtype='float')\n",
        "\n",
        "NPhases_file = dir + '/keys/Nellipsoids0.dat'\n",
        "NPhases = pd.read_csv(NPhases_file, delimiter=r'\\s+', index_col=False, engine='python')\n",
        "#NPhases[::]\n",
        "\n",
        "path_data = dir + '/data'\n",
        "path_keys = dir + '/keys'\n",
        "pathfile = 'path.txt'\n",
        "\n",
        "nparams = 4\n",
        "param_list = sim.read_parameters(nparams)\n",
        "\n",
        "psi_rve = 0.\n",
        "theta_rve = 0.\n",
        "phi_rve = 0.\n",
        "\n",
        "concentration = np.arange(0.,0.51,0.01)\n",
        "\n",
        "E_MT = np.zeros(len(concentration))\n",
        "umat_name = 'MIMTN'\n",
        "for i, x in enumerate (concentration):\n",
        " \n",
        "    param_list[1].value = x\n",
        "    param_list[0].value = 1.-x\n",
        "    \n",
        "    sim.copy_parameters(param_list, path_keys, path_data)\n",
        "    sim.apply_parameters(param_list, path_data)\n",
        "\n",
        "    L = sim.L_eff(umat_name, props, nstatev, psi_rve, theta_rve, phi_rve)\n",
        "    p = sim.L_iso_props(L)\n",
        "    E_MT[i] = p[0]\n",
        "\n",
        "    \n",
        "E_SC = np.zeros(len(concentration))\n",
        "umat_name = 'MISCN'\n",
        "for i, x in enumerate (concentration):\n",
        " \n",
        "    param_list[1].value = x\n",
        "    param_list[0].value = 1.-x\n",
        "    \n",
        "    sim.copy_parameters(param_list, path_keys, path_data)\n",
        "    sim.apply_parameters(param_list, path_data)\n",
        "\n",
        "    L = sim.L_eff(umat_name, props, nstatev, psi_rve, theta_rve, phi_rve)\n",
        "    p = sim.L_iso_props(L)\n",
        "    E_SC[i] = p[0]\n",
        "\n",
        "fig = plt.figure()\n",
        "plt.xlabel(r'Volume fraction (c)', size = 15)\n",
        "plt.ylabel(r'Effective Young\\'s modulus ($E$, MPa)', size = 15)\n",
        "plt.plot(concentration,E_MT, c='blue', label = 'Mori-Tanaka')\n",
        "plt.plot(concentration,E_SC, c='red', label = 'Self-Consistent')\n",
        "expfile = path_data + '/' + 'E_exp.txt'\n",
        "c,E = np.loadtxt(expfile, usecols=(0,1), unpack=True)\n",
        "plt.plot(c,E,linestyle='None', marker='x', color='black', markersize=10)\n",
        "plt.show()"
      ],
      "outputs": [
        {
          "output_type": "stream",
          "name": "stderr",
          "text": [
            "/var/folders/1d/symgspq13hdgdz29n3fjhrqh5q7tjz/T/ipykernel_3022/564427526.py:15: ParserWarning: Length of header or names does not match length of data. This leads to a loss of data with index_col=False.\n",
            "  NPhases = pd.read_csv(NPhases_file, delimiter=r'\\s+', index_col=False, engine='python')\n"
          ]
        },
        {
          "output_type": "display_data",
          "data": {
            "text/plain": "<Figure size 432x288 with 1 Axes>",
            "image/png": "[encoded data removed]"
          },
          "metadata": {
            "needs_background": "light"
          }
        }
      ],
      "execution_count": 2,
      "metadata": {
        "collapsed": true,
        "jupyter": {
          "source_hidden": false,
          "outputs_hidden": false
        },
        "nteract": {
          "transient": {
            "deleting": false
          }
        },
        "execution": {
          "iopub.status.busy": "2022-05-18T12:22:26.888Z",
          "iopub.execute_input": "2022-05-18T12:22:26.893Z",
          "iopub.status.idle": "2022-05-18T12:22:28.843Z",
          "shell.execute_reply": "2022-05-18T12:22:28.852Z"
        }
      }
    },
    {
      "cell_type": "code",
      "source": [],
      "outputs": [],
      "execution_count": null,
      "metadata": {
        "collapsed": true,
        "jupyter": {
          "source_hidden": false,
          "outputs_hidden": false
        },
        "nteract": {
          "transient": {
            "deleting": false
          }
        }
      }
    }
  ],
  "metadata": {
    "kernelspec": {
      "display_name": "Python 2",
      "language": "python",
      "name": "python2"
    },
    "language_info": {
      "name": "python",
      "version": "3.9.12",
      "mimetype": "text/x-python",
      "codemirror_mode": {
        "name": "ipython",
        "version": 3
      },
      "pygments_lexer": "ipython3",
      "nbconvert_exporter": "python",
      "file_extension": ".py"
    },
    "nteract": {
      "version": "0.28.0"
    }
  },
  "nbformat": 4,
  "nbformat_minor": 2
}