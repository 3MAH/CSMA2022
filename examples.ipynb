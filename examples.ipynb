{
 "cells": [
  {
   "cell_type": "code",
   "execution_count": 76,
   "metadata": {},
   "outputs": [],
   "source": [
    "import os\n",
    "import numpy as np\n",
    "import cadquery as cq\n",
    "from microgen import *\n",
    "\n",
    "from jupyter_cadquery import show, set_defaults, open_viewer\n",
    "from jupyter_cadquery.replay import enable_replay, disable_replay, reset_replay, get_context, replay, Replay, _CTX\n",
    "from jupyter_cadquery.cad_objects import to_assembly\n",
    "\n",
    "cv = open_viewer(\"Box\", cad_width=640, height=480)\n",
    "\n",
    "set_defaults(reset_camera=True, show_parent=False, axes=True, axes0=True)"
   ]
  },
  {
   "cell_type": "markdown",
   "metadata": {},
   "source": [
    "# Shapes available"
   ]
  },
  {
   "cell_type": "code",
   "execution_count": null,
   "metadata": {},
   "outputs": [],
   "source": [
    "shapes = {\"box\":             {\"dim_x\": 0.8, \"dim_y\": 0.8, \"dim_z\": 0.8},\n",
    "          \"sphere\":          {\"radius\": 0.5},\n",
    "          \"capsule\":         {\"height\": 0.5, \"radius\": 0.3},\n",
    "          \"cylinder\":        {\"height\": 0.5, \"radius\": 0.5},\n",
    "          \"ellipsoid\":       {\"a_x\": 0.5, \"a_y\": 0.25, \"a_z\": 0.3},\n",
    "          \"extrudedpolygon\": {\"listCorners\": [(0.5, 0), (0.25, 0.44), (-0.25, 0.44), \n",
    "                                              (-0.5, 0), (-0.25, -0.44), (0.25, -0.44), (0.5, 0)],\n",
    "                              \"height\": 0.5}} #, \"polyhedron\":      {\"dic\": }}\n",
    "\n",
    "\n",
    "assembly = cq.Assembly()\n",
    "\n",
    "n_col = 3\n",
    "n_row = np.ceil(len(shapes)/n_col)\n",
    "i = 0\n",
    "for shape, param_geom in shapes.items():\n",
    "    i_x = i%n_col\n",
    "    i_y = i//n_col\n",
    "    elem = BasicGeometry(number=i, shape=shape,\n",
    "                         xc= 1.2*(i_x - 0.5*(n_col - 1)), \n",
    "                         yc=-1.2*(i_y - 0.5*(n_row - 1)), \n",
    "                         zc=0,\n",
    "                         psi=90, theta=90, phi=90,\n",
    "                         param_geom=param_geom)\n",
    "    assembly.add(elem.generate())\n",
    "    i = i + 1\n",
    "\n",
    "compound = assembly.toCompound()\n",
    "show(compound)"
   ]
  },
  {
   "cell_type": "markdown",
   "metadata": {},
   "source": [
    "# Honeycomb"
   ]
  },
  {
   "cell_type": "code",
   "execution_count": null,
   "metadata": {},
   "outputs": [],
   "source": [
    "l = 2.5 # side in mm of the hexagon\n",
    "h = 2.5 # height in mm of the hexagon\n",
    "theta = 30*np.pi/180 # half angle of the hexagone \n",
    "density = 0.5 # relative density (roh*/roh_s) of the honeycomb\n",
    "\n",
    "sampleThickness = 30 # mm\n",
    "\n",
    "h1 = np.cos(theta)*l\n",
    "h2 = abs(np.sin(theta)*l)\n",
    "\n",
    "# t = density*(2*h1*(h/l + abs(np.sin(theta))))/(h/l + 2)\n",
    "\n",
    "\n",
    "\n",
    "\n",
    "sampleThickness = 30\n",
    "\n",
    "\n",
    "g = open(\"seedList.data\", 'r', encoding=\"iso-8859-15\") # open data file\n",
    "\n",
    "seedList = [[1,1,1]]\n",
    "\n",
    "\n",
    "seedList = np.genfromtxt(g, delimiter = '\\t')\n",
    "\n",
    "box = BasicGeometry(number=0,\n",
    "                    shape='box',\n",
    "                    xc=0, yc=0, zc=0,\n",
    "                    psi=0, theta=0, phi=0,\n",
    "                    param_geom={\"dim_x\": sampleThickness,\n",
    "                                \"dim_y\": 60,\n",
    "                                \"dim_z\": 60})\n",
    "\n",
    "phases = []\n",
    "for seed in seedList:\n",
    "    poly = BasicGeometry(number=0,\n",
    "                         shape='extrudedpolygon',\n",
    "                         xc=seed[0] - sampleThickness, yc=seed[1], zc=seed[2],\n",
    "                         psi=0, theta=0, phi=0,\n",
    "                         param_geom={\"listCorners\": [(0, h2 + h/2), (h1, h/2), \n",
    "                                                     (h1, -h/2), (0, -h2 - h/2), \n",
    "                                                     (-h1, -h/2), (-h1, h/2), \n",
    "                                                     (0, h2 + h/2)],\n",
    "                                     \"height\": sampleThickness})\n",
    "    phases.append(poly.generate())\n",
    "    \n",
    "\n",
    "# generate CAD geometry\n",
    "denseSample = box.generate()\n",
    "\n",
    "sample = cutPhaseByShapeList(phaseToCut=denseSample, cqShapeList=phases)\n",
    "show(sample[0])"
   ]
  },
  {
   "cell_type": "markdown",
   "metadata": {},
   "source": [
    "# Octet-Truss"
   ]
  },
  {
   "cell_type": "code",
   "execution_count": null,
   "metadata": {},
   "outputs": [],
   "source": [
    "NPhases_file = 'test_octet.dat'\n",
    "\n",
    "dt = np.dtype([('number', int), ('shape', np.str_, 10),\n",
    "               ('xc', np.float64), ('yc', np.float64), ('zc', np.float64),\n",
    "               ('psi', np.float64), ('theta', np.float64), ('phi', np.float64),\n",
    "               ('a1', np.float64), ('a2', np.float64)])\n",
    "# précision du type des données\n",
    "number, shape, xc, yc, zc, psi, theta, phi, a1, a2, = np.loadtxt(NPhases_file, dtype=dt,\n",
    "                                                                 usecols=(0, 1, 2, 3, 4, 5, 6, 7, 8, 9),\n",
    "                                                                 skiprows=1, unpack=True, ndmin=1)\n",
    "\n",
    "# sections = read_sections(path_data,section_file)\n",
    "\n",
    "# Size of the mesh\n",
    "size_mesh = 0.03\n",
    "a = 1.0\n",
    "b = 1.0\n",
    "c = 1.0\n",
    "\n",
    "revel = Rve(a, b, c, size_mesh)\n",
    "listPhases = []\n",
    "listPeriodicPhases = []\n",
    "n = len(xc)\n",
    "\n",
    "for i in range(0, n):\n",
    "    elem = BasicGeometry(number=number[i], shape=shape[i],\n",
    "                         xc=xc[i], yc=yc[i], zc=zc[i],\n",
    "                         psi=psi[i], theta=theta[i], phi=phi[i],\n",
    "                         param_geom={\"height\": a1[i],\n",
    "                                     \"radius\": a2[i]},\n",
    "                         path_data='')\n",
    "    listPhases.append(elem.generate())\n",
    "\n",
    "for phase_elem in listPhases:\n",
    "    print(phase_elem)\n",
    "    periodicPhase = periodic(cqshape=phase_elem, rve=revel)\n",
    "    listPeriodicPhases.append(periodicPhase)\n",
    "\n",
    "phases_cut = cutParts(cqShapeList=[s[0] for s in listPeriodicPhases], reverseOrder=False)\n",
    "compound = cq.Compound.makeCompound(phases_cut[0])\n",
    "show(compound)"
   ]
  },
  {
   "cell_type": "markdown",
   "metadata": {},
   "source": [
    "# Periodic geometry"
   ]
  },
  {
   "cell_type": "code",
   "execution_count": null,
   "metadata": {},
   "outputs": [],
   "source": [
    "def repeatGeometry(unit_geom, rve, grid):\n",
    "    import time\n",
    "\n",
    "    start = time.time()\n",
    "\n",
    "    xyz_repeat = cq.Assembly()\n",
    "    for i_x in range(grid[\"x\"]):\n",
    "        for i_y in range(grid[\"y\"]):\n",
    "            for i_z in range(grid[\"z\"]):\n",
    "                xyz_repeat.add(unit_geom, \n",
    "                               loc=cq.Location(cq.Vector(i_x*rve.dim_x, \n",
    "                                                         i_y*rve.dim_y, \n",
    "                                                         i_z*rve.dim_z)))\n",
    "\n",
    "\n",
    "    end = time.time()\n",
    "\n",
    "    print(end - start)\n",
    "    \n",
    "    return xyz_repeat.toCompound()\n",
    "\n",
    "\n",
    "final_geom = repeatGeometry(compound, revel, grid={\"x\": 3, \n",
    "                                                   \"y\": 3, \n",
    "                                                   \"z\": 3})\n",
    "\n",
    "show(final_geom)"
   ]
  },
  {
   "cell_type": "markdown",
   "metadata": {},
   "source": [
    "# Gyroid TPMS"
   ]
  },
  {
   "cell_type": "code",
   "execution_count": null,
   "metadata": {},
   "outputs": [],
   "source": [
    "elem = BasicGeometry(number=0, shape='tpms',\n",
    "                     xc=0.5, yc=0.5, zc=0.5,\n",
    "                     psi=0., theta=0., phi=0.,\n",
    "                     param_geom={\"type_surface\": 'gyroid',\n",
    "                                 \"type_part\": 'sheet',\n",
    "                                 \"thickness\": 0.1},\n",
    "                     path_data='data')\n",
    "# elem.geometry.createSurfaces(rve=revel,\n",
    "#                              sizeMesh=0.03, minFacetAngle=20., maxRadius=0.03,\n",
    "#                              path_data='data')\n",
    "# part = elem.generate(rve=revel)\n",
    "\n",
    "unit_geom = cq.importers.importStep('gyroid.step')\n",
    "show(part)"
   ]
  },
  {
   "cell_type": "code",
   "execution_count": null,
   "metadata": {},
   "outputs": [],
   "source": [
    "final_geom = repeatGeometry(part, revel, grid={\"x\": 3, \n",
    "                                               \"y\": 3, \n",
    "                                               \"z\": 3})\n",
    "show(final_geom)"
   ]
  },
  {
   "cell_type": "markdown",
   "metadata": {},
   "source": [
    "# Raster shape"
   ]
  },
  {
   "cell_type": "code",
   "execution_count": null,
   "metadata": {},
   "outputs": [],
   "source": [
    "elem = BasicGeometry(number=101, shape='ellipsoid',\n",
    "                     xc=0.5, yc=0.5, zc=0.5,\n",
    "                     psi=0, theta=0, phi=0,\n",
    "                     param_geom={\"a_x\": 0.4,\n",
    "                                 \"a_y\": 0.25,\n",
    "                                 \"a_z\": 0.3},\n",
    "                     path_data='')\n",
    "elli = elem.generate(rve=revel)\n",
    "\n",
    "raster = rasterShapeList(cqShapeList=[elli], rve=revel, grid=[5, 5, 5])\n",
    "\n",
    "compound = cq.Compound.makeCompound(raster[0])\n",
    "show(compound)"
   ]
  },
  {
   "cell_type": "code",
   "execution_count": null,
   "metadata": {},
   "outputs": [],
   "source": []
  }
 ],
 "metadata": {
  "kernelspec": {
   "display_name": "Python 3 (ipykernel)",
   "language": "python",
   "name": "python3"
  },
  "language_info": {
   "codemirror_mode": {
    "name": "ipython",
    "version": 3
   },
   "file_extension": ".py",
   "mimetype": "text/x-python",
   "name": "python",
   "nbconvert_exporter": "python",
   "pygments_lexer": "ipython3",
   "version": "3.9.12"
  }
 },
 "nbformat": 4,
 "nbformat_minor": 4
}
