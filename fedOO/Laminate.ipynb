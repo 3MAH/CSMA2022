{
 "cells": [
  {
   "cell_type": "markdown",
   "metadata": {},
   "source": [
    "# Simple laminated plate example"
   ]
  },
  {
   "cell_type": "code",
   "execution_count": 7,
   "metadata": {},
   "outputs": [
    {
     "data": {
      "text/plain": [
       "Text(0, 0.5, 'z (mm)')"
      ]
     },
     "execution_count": 7,
     "metadata": {},
     "output_type": "execute_result"
    },
    {
     "data": {
      "image/png": "[encoded data removed]",
      "text/plain": [
       "<Figure size 432x288 with 1 Axes>"
      ]
     },
     "metadata": {
      "needs_background": "light"
     },
     "output_type": "display_data"
    }
   ],
   "source": [
    "from fedoo import *\n",
    "import numpy as np\n",
    "from matplotlib import pylab as plt\n",
    "import os\n",
    "Util.ProblemDimension(\"3D\")\n",
    "E = 1e5 \n",
    "\n",
    "L = 100\n",
    "h = 20\n",
    "thickness = 1\n",
    "F = -100\n",
    "\n",
    "geomElementType = 'quad4' #choose among 'tri3', 'tri6', 'quad4', 'quad9'\n",
    "plateElementType = 'p'+geomElementType #plate interpolation. Same as geom interpolation in local element coordinate (change of basis)\n",
    "reduced_integration = False #if true, use reduce integration for shear \n",
    "saveResults = True\n",
    "\n",
    "mat1 = ConstitutiveLaw.ElasticIsotrop(1e5, 0.3, ID = 'Mat1') #E1 = 1e5, nu1 = 0.3\n",
    "mat2 = ConstitutiveLaw.ElasticIsotrop(1e4, 0.3, ID = 'Mat2') #E2 = 1e5, nu2 = 0.3\n",
    "\n",
    "#3 layers with thickness 0.2, 1 and 0.2 (sandwich pannel)\n",
    "ConstitutiveLaw.ShellLaminate(['Mat1', 'Mat2', 'Mat1'], [0.2,1,0.2], ID = 'PlateSection') \n",
    "\n",
    "mesh = Mesh.RectangleMesh(201,21,0,L,-h/2,h/2, geomElementType, ID='plate', ndim = 3)\n",
    "\n",
    "nodes_left = mesh.GetSetOfNodes('left')\n",
    "nodes_right = mesh.GetSetOfNodes('right')\n",
    "\n",
    "node_right_center = nodes_right[(mesh.GetNodeCoordinates()[nodes_right,1]**2).argmin()]\n",
    "\n",
    "\n",
    "if reduced_integration == False:\n",
    "    WeakForm.Plate(\"PlateSection\", ID = \"WFplate\") #by default k=0 i.e. no shear effect\n",
    "    Assembly.Create(\"WFplate\", \"plate\", plateElementType, ID=\"plate\")    \n",
    "else:    \n",
    "    WeakForm.Plate_RI(\"PlateSection\", ID = \"WFplate_RI\") #by default k=0 i.e. no shear effect\n",
    "    Assembly.Create(\"WFplate_RI\", \"plate\", plateElementType, ID=\"plate_RI\", nb_pg = 1)  #set nb_pg = 1\n",
    "    \n",
    "    WeakForm.Plate_FI(\"PlateSection\", ID = \"WFplate_FI\") #by default k=0 i.e. no shear effect\n",
    "    Assembly.Create(\"WFplate_FI\", \"plate\", plateElementType, ID=\"plate_FI\") \n",
    "    \n",
    "    Assembly.Sum(\"plate_RI\", \"plate_FI\", ID = \"plate\", assembly_output = 'plate_FI') \n",
    "    #assembly_ouput = assembly used to output data\n",
    "\n",
    "Problem.Static(\"plate\")\n",
    "Problem.SetSolver('cg')\n",
    "\n",
    "#create a 'result' folder and set the desired ouputs\n",
    "if not(os.path.isdir('results')): os.mkdir('results')\n",
    "Problem.AddOutput('results/simplePlate', 'plate', ['disp','rot', 'stress', 'strain'], output_type='Node', file_format ='vtk', position = -1)    \n",
    "\n",
    "\n",
    "Problem.BoundaryCondition('Dirichlet','DispX',0,nodes_left)\n",
    "Problem.BoundaryCondition('Dirichlet','DispY',0,nodes_left)\n",
    "Problem.BoundaryCondition('Dirichlet','DispZ',0,nodes_left)\n",
    "Problem.BoundaryCondition('Dirichlet','RotX',0,nodes_left)\n",
    "Problem.BoundaryCondition('Dirichlet','RotY',0,nodes_left)\n",
    "Problem.BoundaryCondition('Dirichlet','RotZ',0,nodes_left)\n",
    "\n",
    "Problem.BoundaryCondition('Neumann','DispZ',F,node_right_center)\n",
    "\n",
    "Problem.ApplyBoundaryCondition()\n",
    "Problem.Solve()\n",
    "\n",
    "if saveResults == True: \n",
    "    Problem.SaveResults() #save in vtk\n",
    "\n",
    "z, StressDistribution = ConstitutiveLaw.GetAll()['PlateSection'].GetStressDistribution(200)\n",
    "plt.plot(StressDistribution[0], z)\n",
    "\n",
    "plt.xlabel('sigma_xx (MPa)')\n",
    "plt.ylabel('z (mm)')\n"
   ]
  },
  {
   "cell_type": "code",
   "execution_count": null,
   "metadata": {},
   "outputs": [],
   "source": []
  }
 ],
 "metadata": {
  "kernelspec": {
   "display_name": "Python 3 (ipykernel)",
   "language": "python",
   "name": "python3"
  },
  "language_info": {
   "codemirror_mode": {
    "name": "ipython",
    "version": 3
   },
   "file_extension": ".py",
   "mimetype": "text/x-python",
   "name": "python",
   "nbconvert_exporter": "python",
   "pygments_lexer": "ipython3",
   "version": "3.9.12"
  }
 },
 "nbformat": 4,
 "nbformat_minor": 4
}
