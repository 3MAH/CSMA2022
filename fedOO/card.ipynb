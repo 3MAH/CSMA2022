{
 "cells": [
  {
   "cell_type": "markdown",
   "id": "5e93acc0-56e5-4042-a1cc-9a62d86c1b5f",
   "metadata": {},
   "source": [
    "# Directional Stiffness plot of a Gyroid"
   ]
  },
  {
   "cell_type": "code",
   "execution_count": 1,
   "id": "54993363-329a-423f-92cf-da60885d7c22",
   "metadata": {},
   "outputs": [],
   "source": [
    "from fedoo import *\n",
    "import numpy as np\n",
    "import time\n",
    "from simcoon import simmit as sim\n",
    "import matplotlib.pyplot as plt\n",
    "from matplotlib import cm, colors\n",
    "import os\n"
   ]
  },
  {
   "cell_type": "markdown",
   "id": "f8f8e8f4-a97a-4798-a133-5466a4fb8007",
   "metadata": {},
   "source": [
    "## Plot the Mesh"
   ]
  },
  {
   "cell_type": "code",
   "execution_count": 8,
   "id": "e7620d1a-ad03-4a4d-a5fd-4691a450a2cf",
   "metadata": {},
   "outputs": [],
   "source": [
    "from sidecar import Sidecar\n",
    "from ipygany import Scene, PolyMesh\n",
    "\n",
    "OUT = Util.ExportData(meshID)\n",
    "OUT.toVTK(\"3D_Periodic_BC.vtk\")\n",
    "\n",
    "mesh_to_plot = PolyMesh.from_vtk('3D_Periodic_BC.vtk')\n",
    "mesh_to_plot.default_color = 'gray'\n",
    "\n",
    "sc = Sidecar(title='ipygany_gyroid')\n",
    "scene = Scene([mesh])\n",
    "\n",
    "with sc:\n",
    "    display(scene)"
   ]
  },
  {
   "cell_type": "markdown",
   "id": "8863da8f-05e5-46e9-839e-af672ad69a8d",
   "metadata": {},
   "source": [
    "## Generate the effective Stiffness Matrice"
   ]
  },
  {
   "cell_type": "code",
   "execution_count": 2,
   "id": "bbec9cd1-75e1-46eb-9698-862e2b143385",
   "metadata": {
    "tags": []
   },
   "outputs": [
    {
     "name": "stdout",
     "output_type": "stream",
     "text": [
      "Mesh imported: \"Domain\" with elements tet4\n",
      "props [1.e+05 3.e-01]\n",
      "28419\n",
      "28419\n",
      "28419\n",
      "28420\n",
      "28420\n",
      "28420\n",
      "L_eff =  [[17158.638  7392.35   7401.052    20.507    25.706    12.588]\n",
      " [ 7392.35  17159.938  7403.182    19.967     7.78     24.052]\n",
      " [ 7401.052  7403.182 17166.323     8.491    23.431    22.291]\n",
      " [   20.507    19.967     8.491  5584.691     3.882     2.431]\n",
      " [   25.706     7.78     23.431     3.882  5584.403     1.389]\n",
      " [   12.588    24.052    22.291     2.431     1.389  5583.699]]\n"
     ]
    }
   ],
   "source": [
    "#--------------- Pre-Treatment --------------------------------------------------------\n",
    "Util.ProblemDimension(\"3D\")\n",
    "\n",
    "Mesh.ImportFromFile('Mesh0.3.msh', meshID = \"Domain\")\n",
    "meshID = \"Domain\"\n",
    "mesh = Mesh.GetAll()['Domain']\n",
    "crd = mesh.GetNodeCoordinates()\n",
    "elm = mesh.GetElementTable()\n",
    "\n",
    "#we define the type of Constitutive Law to be utilized\n",
    "umat_name = 'ELISO'\n",
    "props = np.array([[1e5, 0.3, 1]])\n",
    "nstatev = 1\n",
    "\n",
    "#Here we use Simcoon to determine the elastic stiffness matrix\n",
    "L = sim.L_iso(1e5, 0.3, 'Enu')\n",
    "props_test = sim.L_iso_props(L)\n",
    "print('props', props_test)\n",
    "\n",
    "#Weak Form\n",
    "Material = ConstitutiveLaw.ElasticAnisotropic(L, ID = 'ElasticLaw')\n",
    "wf = WeakForm.InternalForce(\"ElasticLaw\", ID = \"WeakForm\", nlgeom=False)\n",
    "# Assembly\n",
    "assemb = Assembly.Create(\"WeakForm\", \"Domain\", mesh.GetElementShape(), ID=\"Assembly\")\n",
    "\n",
    "L_eff = Homogen.GetHomogenizedStiffness(assemb, meshperio=False)\n",
    "\n",
    "np.set_printoptions(precision=3, suppress=True)\n",
    "print('L_eff = ', L_eff)"
   ]
  },
  {
   "cell_type": "markdown",
   "id": "4e85a68a-304e-432f-877c-23feafe08a93",
   "metadata": {},
   "source": [
    "## Generate the directional Stiffness value"
   ]
  },
  {
   "cell_type": "code",
   "execution_count": 9,
   "id": "0819bc41-a76c-4c16-b2ab-096516538c67",
   "metadata": {},
   "outputs": [],
   "source": [
    "plt.rcParams['text.usetex'] = True\n",
    "plt.rcParams[\"figure.figsize\"] = (20,8)\n",
    "\n",
    "phi = np.linspace(0,2*np.pi, 128) # the angle of the projection in the xy-plane\n",
    "theta = np.linspace(0, np.pi, 128).reshape(128,1) # the angle from the polar axis, ie the polar angle\n",
    "\n",
    "n_1 = np.sin(theta)*np.cos(phi)\n",
    "n_2 = np.sin(theta)*np.sin(phi)\n",
    "n_3 = np.cos(theta)*np.ones(128)\n",
    "\n",
    "n = np.array([n_1*n_1, n_2*n_2, n_3*n_3, n_1*n_2, n_1*n_3, n_2*n_3]).transpose(1,2,0).reshape(128,128,1,6)\n",
    "\n",
    "M = np.linalg.inv(L_eff)\n",
    "\n",
    "S = (n@M@n.reshape(128,128,6,1)).reshape(128,128)\n",
    "\n",
    "E = (1./S)\n",
    "x = E*n_1\n",
    "y = E*n_2\n",
    "z = E*n_3\n",
    "\n",
    "#E = E/E.max()\n",
    "\n",
    "fig = plt.figure(figsize=plt.figaspect(1))  # Square figure\n",
    "ax = fig.add_subplot(111, projection='3d')\n",
    "\n",
    "# make the panes transparent\n",
    "ax.xaxis.set_pane_color((1.0, 1.0, 1.0, 0.0))\n",
    "ax.yaxis.set_pane_color((1.0, 1.0, 1.0, 0.0))\n",
    "ax.zaxis.set_pane_color((1.0, 1.0, 1.0, 0.0))\n",
    "# make the grid lines transparent\n",
    "ax.xaxis._axinfo[\"grid\"]['color'] =  (1,1,1,0)\n",
    "ax.yaxis._axinfo[\"grid\"]['color'] =  (1,1,1,0)\n",
    "ax.zaxis._axinfo[\"grid\"]['color'] =  (1,1,1,0)\n",
    "ax.set_axis_off()\n",
    "\n",
    "#ax.plot_surface(x, y, z, cmap='hot',c=E)\n",
    "\n",
    "#norm = colors.Normalize(vmin = 0., vmax = 10000, clip = False)\n",
    "Emin = np.min(E)\n",
    "Eavg = np.average(E)\n",
    "Emax = np.max(E)\n",
    "norm = colors.Normalize(vmin = Emin, vmax = Emax, clip = False)\n",
    "surf = ax.plot_surface(x, y, z, rstride=1, cstride=1, norm=norm, facecolors=cm.cividis(norm(E)),linewidth=0, antialiased=False, shade=False)\n",
    "\n",
    "#ax.set_xlim(0,20000)\n",
    "#ax.set_ylim(0,20000)\n",
    "#ax.set_zlim(0,20000)\n",
    "#ax.set_xlabel(r'$E_x$ (MPa)')\n",
    "#ax.set_ylabel(r'$E_y$ (MPa)')\n",
    "#ax.set_zlabel(r'$E_z$ (MPa)')\n",
    "\n",
    "scalarmap = cm.ScalarMappable(cmap=plt.cm.cividis, norm=norm)\n",
    "scalarmap.set_clim(np.min(E),np.max(E))\n",
    "#m.set_array([])\n",
    "cbar = plt.colorbar(scalarmap, orientation=\"horizontal\", fraction=0.06, pad=-0.1, ticks=[Emin, Eavg, Emax])\n",
    "cbar.ax.tick_params(labelsize='large')\n",
    "cbar.set_label(r'directional stiffness $E$ (MPa)', size=15, labelpad=20)\n",
    "\n",
    "#ax.figure.axes[0].tick_params(axis=\"both\", labelsize=5)\n",
    "ax.figure.axes[1].tick_params(axis=\"x\", labelsize=20)\n",
    "\n",
    "ax.azim = 30\n",
    "ax.elev = 30\n",
    "\n",
    "#Volume_mesh = Assembly.GetAll()['Assembling'].IntegrateField(np.ones_like(TensorStress[0]))\n",
    "\n",
    "#plt.savefig(\"directional.png\", transparent=True)\n",
    "\n",
    "sc = Sidecar(title='directional')\n",
    "\n",
    "with sc:\n",
    "    display(plt.show())"
   ]
  },
  {
   "cell_type": "code",
   "execution_count": null,
   "id": "5728e9c7-f3c3-458c-9ddf-b9d3b1d6275b",
   "metadata": {},
   "outputs": [],
   "source": []
  }
 ],
 "metadata": {
  "kernelspec": {
   "display_name": "3mah",
   "language": "python",
   "name": "3mah"
  },
  "language_info": {
   "codemirror_mode": {
    "name": "ipython",
    "version": 3
   },
   "file_extension": ".py",
   "mimetype": "text/x-python",
   "name": "python",
   "nbconvert_exporter": "python",
   "pygments_lexer": "ipython3",
   "version": "3.9.12"
  }
 },
 "nbformat": 4,
 "nbformat_minor": 5
}
