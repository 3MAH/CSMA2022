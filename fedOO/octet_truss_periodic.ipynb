{
 "cells": [
  {
   "cell_type": "markdown",
   "metadata": {
    "tags": []
   },
   "source": [
    "# Octet truss cell loaded with periodic boundary conditions\n",
    "The geomery is generated with Microgen"
   ]
  },
  {
   "cell_type": "code",
   "execution_count": 5,
   "metadata": {
    "scrolled": true
   },
   "outputs": [
    {
     "name": "stdout",
     "output_type": "stream",
     "text": [
      "Mesh imported: \"Domain0\" with elements lin2\n",
      "Mesh imported: \"Domain1\" with elements tri3\n",
      "Mesh imported: \"Domain2\" with elements tet4\n",
      "Warning : Elements type 15 is not implemeted!\n"
     ]
    },
    {
     "data": {
      "application/vnd.jupyter.widget-view+json": {
       "model_id": "242893b9fde4486c868ebb0fec57ace6",
       "version_major": 2,
       "version_minor": 0
      },
      "text/plain": [
       "AppLayout(children=(VBox(children=(HTML(value='<h3>Stress</h3>'), Dropdown(description='Colormap:', options={'…"
      ]
     },
     "metadata": {},
     "output_type": "display_data"
    }
   ],
   "source": [
    "from fedoo import *\n",
    "import numpy as np\n",
    "import pyvista as pv\n",
    "\n",
    "pv.set_jupyter_backend('ipygany')\n",
    "\n",
    "#Define the Modeling Space - Here 3D problem \n",
    "Util.ProblemDimension(\"3D\")\n",
    "\n",
    "#Import the mesh generated with Microgen \n",
    "Mesh.ImportFromFile('data/octet_surf.msh', meshID = \"Domain\")\n",
    "\n",
    "#Get the imported mesh \n",
    "mesh = Mesh.GetAll()[\"Domain2\"]\n",
    "\n",
    "#Get the bounding box (corners coordinates and center)\n",
    "Xmin, Xmax, crd_center = mesh.GetBoundingBox(return_center = True)\n",
    "# total volume of the bounding box\n",
    "Volume = (Xmax-Xmin).prod()\n",
    "\n",
    "#Nearest node to the center of the bounding box for boundary conditions\n",
    "center = mesh.GetNearestNode(crd_center)\n",
    "\n",
    "# Add 2 virtual nodes for macro strain \n",
    "StrainNodes = mesh.AddNodes(crd_center, 2)  \n",
    "\n",
    "#Define an elastic isotropic material with E = 2e5MPa et nu = 0.3 (steel)\n",
    "material = ConstitutiveLaw.ElasticIsotrop(2e5, 0.3, ID = 'ConstitutiveLaw') \n",
    "\n",
    "#Create the weak formulation of the mechanical equilibrium equation\n",
    "wf = WeakForm.InternalForce(material, ID = \"WeakForm\", nlgeom=False)\n",
    "\n",
    "# Assembly\n",
    "assemb = Assembly.Create(\"WeakForm\", \"Domain2\", ID=\"Assembly\")\n",
    "\n",
    "# Type of problem\n",
    "pb = Problem.Static(\"Assembly\", ID = 'octet truss')\n",
    "\n",
    "# Set the desired ouputs at each time step\n",
    "#pb.AddOutput('results_octet', 'Assembly', ['disp', 'cauchy', 'PKII', 'strain', 'cauchy_vm', 'statev'], output_type='Node', file_format ='vtk')\n",
    "pb.AddOutput('results_octet', 'Assembly', ['disp', 'stress', 'strain'], output_type='Node', file_format ='vtk')\n",
    "\n",
    "# Boundary conditions for the linearized strain tensor\n",
    "E = [0, 0, 0, 0.1, 0, 0]  # [EXX, EYY, EZZ, EXY, EXZ, EYZ]\n",
    "\n",
    "Homogen.DefinePeriodicBoundaryCondition('Domain2',\n",
    "\t    [StrainNodes[0], StrainNodes[0], StrainNodes[0],\n",
    "         StrainNodes[1], StrainNodes[1], StrainNodes[1]],\n",
    "        ['DispX', 'DispY', 'DispZ', 'DispX', 'DispY', 'DispZ'], dim='3D', ProblemID = 'octet truss')\n",
    "\n",
    "#fixed point on the center to avoid rigid body motion\n",
    "pb.BoundaryCondition('Dirichlet', 'Disp', 0, center)\n",
    "\n",
    "#Enforced mean strain\n",
    "pb.BoundaryCondition('Dirichlet', 'Disp', [E[0], E[1], E[2]], [\n",
    "                           StrainNodes[0]])  # EpsXX, EpsYY, EpsZZ\n",
    "pb.BoundaryCondition('Dirichlet', 'Disp', [E[3], E[4], E[5]], [\n",
    "                           StrainNodes[1]])  # EpsXY, EpsXZ, EpsYZ\n",
    "\n",
    "pb.ApplyBoundaryCondition()\n",
    "\n",
    "# ---------------  Non linear solver--------------------------------------------\n",
    "pb.SetSolver('cg')\n",
    "pb.Solve()\n",
    "\n",
    "# --------------- Post-Treatment -----------------------------------------------\n",
    "# Get the stress and strain tensor (PG values)\n",
    "#res = pb.GetResults('Assembly', ['Strain','Stress'], 'GaussPoint') \n",
    "#TensorStrain = res['Strain']\n",
    "#TensorStress = res['Stress']\n",
    "pb.SaveResults()\n",
    "meshplot = pv.read('results_octet.vtk')\n",
    "pl = pv.Plotter()\n",
    "pl.add_mesh(meshplot.warp_by_vector(factor = 5), scalars = 'Stress', component = 0, clim = [0,10000], show_edges = True, color = 'white')\n",
    "#pl.show(jupyter_backend='ipyvtklink')\n",
    "pl.show()\n"
   ]
  },
  {
   "cell_type": "code",
   "execution_count": null,
   "metadata": {},
   "outputs": [],
   "source": []
  }
 ],
 "metadata": {
  "kernelspec": {
   "display_name": "Python 3 (ipykernel)",
   "language": "python",
   "name": "python3"
  },
  "language_info": {
   "codemirror_mode": {
    "name": "ipython",
    "version": 3
   },
   "file_extension": ".py",
   "mimetype": "text/x-python",
   "name": "python",
   "nbconvert_exporter": "python",
   "pygments_lexer": "ipython3",
   "version": "3.9.12"
  }
 },
 "nbformat": 4,
 "nbformat_minor": 4
}
