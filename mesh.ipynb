from microgen import *

#Size of the mesh
size_mesh = 0.03
a = 1.0
b = 1.0
c = 1.0

periodicity = 0
Revel = Rve(a,b,c,size_mesh)
phases = []

S = BasicGeometry(number=101,
                  shape='ellipsoid', 
                  xc=0.5, yc=0.5, zc=0.5, 
                  psi=0, theta=0, phi=0, 
                  param_geom={'a_x': 0.3, 
                              'a_y': 0.3, 
                              'a_z': 0.4}, 
                  path_data='.')
elli = S.generate()

print(dir(elli))

listSolids = elli.Solids()



compound = cq.Compound.makeCompound(listSolids)
cq.exporters.export(compound, 'compound.stl')
cq.exporters.export(compound, 'compound.step')

mesh(mesh_file='compound.step', 
     listPhases=[elli.Solids()], 
     size=0.03, 
     order=1, 
     output_file='Mesh.vtk')


from ipygany import Scene, PolyMesh

mesh = PolyMesh.from_vtk('Mesh.vtk')
mesh.default_color = 'gray'

scene = Scene([mesh])
scene
