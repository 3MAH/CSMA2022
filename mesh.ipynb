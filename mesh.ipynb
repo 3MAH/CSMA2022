{
 "cells": [
  {
   "cell_type": "code",
   "execution_count": null,
   "metadata": {},
   "outputs": [],
   "source": [
    "from microgen import *\n",
    "import os\n",
    "\n",
    "#Size of the mesh\n",
    "size_mesh = 0.03\n",
    "a = 1.0\n",
    "b = 1.0\n",
    "c = 1.0\n",
    "\n",
    "periodicity = 0\n",
    "Revel = Rve(a,b,c,size_mesh)\n",
    "phases = []\n",
    "\n",
    "S = BasicGeometry(number=101,\n",
    "                  shape='ellipsoid', \n",
    "                  xc=0.5, yc=0.5, zc=0.5, \n",
    "                  psi=0, theta=0, phi=0, \n",
    "                  param_geom={'a_x': 0.3, \n",
    "                              'a_y': 0.3, \n",
    "                              'a_z': 0.4}, \n",
    "                  path_data='.')\n",
    "elli = S.generate()\n",
    "\n",
    "listSolids = elli.Solids()\n",
    "\n",
    "\n",
    "\n",
    "compound = cq.Compound.makeCompound(listSolids)\n",
    "cq.exporters.export(compound, 'compound.stl')\n",
    "cq.exporters.export(compound, 'compound.step')\n",
    "\n",
    "if 'data' not in os.listdir('.'):\n",
    "     os.mkdir('data')\n",
    "\n",
    "mesh(mesh_file='compound.step', \n",
    "     listPhases=[elli.Solids()], \n",
    "     size=0.03, \n",
    "     order=1, \n",
    "     output_file='data/Mesh.vtk')\n",
    "\n",
    "\n",
    "from ipygany import Scene, PolyMesh\n",
    "\n",
    "mesh = PolyMesh.from_vtk('data/Mesh.vtk')\n",
    "mesh.default_color = 'gray'\n",
    "\n",
    "scene = Scene([mesh])\n",
    "scene"
   ]
  }
 ],
 "metadata": {
  "language_info": {
   "name": "python"
  },
  "orig_nbformat": 4
 },
 "nbformat": 4,
 "nbformat_minor": 2
}
