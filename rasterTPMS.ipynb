{
 "cells": [
  {
   "cell_type": "code",
   "execution_count": 1,
   "metadata": {},
   "outputs": [
    {
     "name": "stdout",
     "output_type": "stream",
     "text": [
      "52sh_surf_minus     (4/4)\n",
      "[52]\n",
      "[1, 2, 3, 4, 5, 6, 7, 8, 9, 10, 11, 12, 13, 14, 15, 16, 17, 18, 19, 20, 21, 22, 23, 24, 25, 26, 27, 28, 29, 30, 31, 32, 33, 34, 35, 36, 37, 38, 39, 40, 41, 42, 43, 44, 45, 46, 47, 48, 49, 50, 51, 52]\n",
      "[[1, 2, 3, 4, 5, 6, 7, 8, 9, 10, 11, 12, 13, 14, 15, 16, 17, 18, 19, 20, 21, 22, 23, 24, 25, 26, 27, 28, 29, 30, 31, 32, 33, 34, 35, 36, 37, 38, 39, 40, 41, 42, 43, 44, 45, 46, 47, 48, 49, 50, 51, 52]]\n",
      "[(3, 1), (3, 2), (3, 3), (3, 4), (3, 5), (3, 6), (3, 7), (3, 8), (3, 9), (3, 10), (3, 11), (3, 12), (3, 13), (3, 14), (3, 15), (3, 16), (3, 17), (3, 18), (3, 19), (3, 20), (3, 21), (3, 22), (3, 23), (3, 24), (3, 25), (3, 26), (3, 27), (3, 28), (3, 29), (3, 30), (3, 31), (3, 32), (3, 33), (3, 34), (3, 35), (3, 36), (3, 37), (3, 38), (3, 39), (3, 40), (3, 41), (3, 42), (3, 43), (3, 44), (3, 45), (3, 46), (3, 47), (3, 48), (3, 49), (3, 50), (3, 51), (3, 52)]\n",
      "[(3, 1), (3, 2), (3, 3), (3, 4), (3, 5), (3, 6), (3, 7), (3, 8), (3, 9), (3, 10), (3, 11), (3, 12), (3, 13), (3, 14), (3, 15), (3, 16), (3, 17), (3, 18), (3, 19), (3, 20), (3, 21), (3, 22), (3, 23), (3, 24), (3, 25), (3, 26), (3, 27), (3, 28), (3, 29), (3, 30), (3, 31), (3, 32), (3, 33), (3, 34), (3, 35), (3, 36), (3, 37), (3, 38), (3, 39), (3, 40), (3, 41), (3, 42), (3, 43), (3, 44), (3, 45), (3, 46), (3, 47), (3, 48), (3, 49), (3, 50), (3, 51), (3, 52)]\n",
      "[(3, 1), (3, 2), (3, 3), (3, 4), (3, 5), (3, 6), (3, 7), (3, 8), (3, 9), (3, 10), (3, 11), (3, 12), (3, 13), (3, 14), (3, 15), (3, 16), (3, 17), (3, 18), (3, 19), (3, 20), (3, 21), (3, 22), (3, 23), (3, 24), (3, 25), (3, 26), (3, 27), (3, 28), (3, 29), (3, 30), (3, 31), (3, 32), (3, 33), (3, 34), (3, 35), (3, 36), (3, 37), (3, 38), (3, 39), (3, 40), (3, 41), (3, 42), (3, 43), (3, 44), (3, 45), (3, 46), (3, 47), (3, 48), (3, 49), (3, 50), (3, 51)]\n",
      "(3, 52)\n",
      "0\n",
      "<class 'int'>\n"
     ]
    }
   ],
   "source": [
    "import cadquery as cq\n",
    "from microgen import Rve, BasicGeometry, rasterShapeList, mesh\n",
    "\n",
    "# Size of the mesh\n",
    "size_mesh = 0.03\n",
    "a = 1.0\n",
    "b = 1.0\n",
    "c = 1.0\n",
    "\n",
    "periodicity = 0\n",
    "revel = Rve(a, b, c, size_mesh)\n",
    "\n",
    "elem = BasicGeometry(number=0, shape='tpms',\n",
    "                     xc=0.5, yc=0.5, zc=0.5,\n",
    "                     psi=0., theta=0., phi=0.,\n",
    "                     param_geom={\"type_surface\": 'gyroid',\n",
    "                                 \"type_part\": 'skeletal',\n",
    "                                 \"thickness\": 0.3},\n",
    "                     path_data='data')\n",
    "elem.geometry.createSurfaces(rve=revel,\n",
    "                             sizeMesh=0.03, minFacetAngle=20., maxRadius=0.03,\n",
    "                             path_data='data')\n",
    "skeletal = elem.generate(rve=revel)\n",
    "\n",
    "cq.exporters.export(skeletal, 'data/skeletal.step')\n",
    "raster = rasterShapeList(cqShapeList=[skeletal], rve=revel, grid=[5, 5, 5])\n",
    "\n",
    "compound = cq.Compound.makeCompound(raster[0])\n",
    "cq.exporters.export(compound, 'data/compound.step')\n",
    "\n",
    "mesh(mesh_file='data/compound.step', listPhases=raster[1], size=size_mesh, order=1, output_file='data/Mesh.vtk')"
   ]
  },
  {
   "cell_type": "code",
   "execution_count": null,
   "metadata": {},
   "outputs": [],
   "source": [
    "from ipygany import Scene, PolyMesh\n",
    "from sidecar import Sidecar\n",
    "\n",
    "sc = Sidecar(title='Sidecar Output')\n",
    "with sc:\n",
    "    mesh = PolyMesh.from_vtk('data/Mesh.vtk')\n",
    "    mesh.default_color = 'gray'\n",
    "\n",
    "    scene = Scene([mesh])\n",
    "    display(scene)"
   ]
  },
  {
   "cell_type": "code",
   "execution_count": null,
   "metadata": {},
   "outputs": [],
   "source": []
  }
 ],
 "metadata": {
  "kernelspec": {
   "display_name": "Python 3 (ipykernel)",
   "language": "python",
   "name": "python3"
  },
  "language_info": {
   "codemirror_mode": {
    "name": "ipython",
    "version": 3
   },
   "file_extension": ".py",
   "mimetype": "text/x-python",
   "name": "python",
   "nbconvert_exporter": "python",
   "pygments_lexer": "ipython3",
   "version": "3.9.12"
  }
 },
 "nbformat": 4,
 "nbformat_minor": 4
}
