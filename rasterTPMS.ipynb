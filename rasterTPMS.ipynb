{
 "cells": [
  {
   "cell_type": "code",
   "execution_count": null,
   "metadata": {},
   "outputs": [],
   "source": [
    "import cadquery as cq\n",
    "from microgen import Rve, BasicGeometry, rasterShapeList, mesh\n",
    "\n",
    "# Size of the mesh\n",
    "size_mesh = 0.03\n",
    "a = 1.0\n",
    "b = 1.0\n",
    "c = 1.0\n",
    "\n",
    "periodicity = 0\n",
    "revel = Rve(a, b, c, size_mesh)\n",
    "\n",
    "surfaces = [\"honeycomb\", \"gyroid\", \"schwarzP\", \"schwarzD\", \"neovius\", \"schoenIWP\", \"schoenFRD\", \"fischerKochS\", \"pmy\"]\n",
    "parts = [\"skeletal\", \"sheet\"]\n",
    "\n",
    "surface = surfaces[0]\n",
    "part = parts[0]\n",
    "\n",
    "geom = BasicGeometry(number=0, shape='tpms',\n",
    "                     xc=0.5, yc=0.5, zc=0.5,\n",
    "                     psi=0., theta=0., phi=0.,\n",
    "                     param_geom={\"type_surface\": surface,\n",
    "                                 \"type_part\": part,\n",
    "                                 \"thickness\": 0.1},\n",
    "                     path_data='data')\n",
    "geom.geometry.createSurfaces(rve=revel,\n",
    "                             sizeMesh=0.03, minFacetAngle=20., maxRadius=0.03,\n",
    "                             path_data='data')\n",
    "part = geom.generate(rve=revel)\n"
   ]
  },
  {
   "cell_type": "code",
   "execution_count": null,
   "metadata": {},
   "outputs": [],
   "source": [
    "from jupyter_cadquery import show, set_defaults, open_viewer\n",
    "from jupyter_cadquery.replay import enable_replay, disable_replay, reset_replay, get_context, replay, Replay, _CTX\n",
    "from jupyter_cadquery.cad_objects import to_assembly\n",
    "\n",
    "cv = open_viewer(\"Box\", cad_width=640, height=480)\n",
    "\n",
    "set_defaults(reset_camera=True, show_parent=False, axes=True, axes0=True)"
   ]
  },
  {
   "cell_type": "code",
   "execution_count": null,
   "metadata": {},
   "outputs": [],
   "source": [
    "sheet = part.Solids()\n",
    "show(*sheet)"
   ]
  }
 ],
 "metadata": {
  "kernelspec": {
   "display_name": "Python 3 (ipykernel)",
   "language": "python",
   "name": "python3"
  },
  "language_info": {
   "codemirror_mode": {
    "name": "ipython",
    "version": 3
   },
   "file_extension": ".py",
   "mimetype": "text/x-python",
   "name": "python",
   "nbconvert_exporter": "python",
   "pygments_lexer": "ipython3",
   "version": "3.9.11"
  }
 },
 "nbformat": 4,
 "nbformat_minor": 4
}
